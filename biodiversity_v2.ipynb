{
 "cells": [
  {
   "cell_type": "markdown",
   "metadata": {},
   "source": [
    "# Biodoversity in National Parks: Portfolio Project"
   ]
  },
  {
   "cell_type": "code",
   "execution_count": 3,
   "metadata": {},
   "outputs": [],
   "source": [
    "import matplotlib.pyplot as plt\n",
    "import pandas as pd\n",
    "import seaborn as sns\n",
    "\n",
    "#import csv files\n",
    "observations_df = pd.read_csv(r\"C:\\unzipped\\biodiversity-starter\\biodiversity_starter\\observations.csv\")\n",
    "species_df = pd.read_csv(r\"C:\\unzipped\\biodiversity-starter\\biodiversity_starter\\species_info.csv\")\n",
    "\n"
   ]
  },
  {
   "cell_type": "markdown",
   "metadata": {},
   "source": [
    "## First Look"
   ]
  },
  {
   "cell_type": "code",
   "execution_count": 4,
   "metadata": {},
   "outputs": [
    {
     "data": {
      "text/html": [
       "<div>\n",
       "<style scoped>\n",
       "    .dataframe tbody tr th:only-of-type {\n",
       "        vertical-align: middle;\n",
       "    }\n",
       "\n",
       "    .dataframe tbody tr th {\n",
       "        vertical-align: top;\n",
       "    }\n",
       "\n",
       "    .dataframe thead th {\n",
       "        text-align: right;\n",
       "    }\n",
       "</style>\n",
       "<table border=\"1\" class=\"dataframe\">\n",
       "  <thead>\n",
       "    <tr style=\"text-align: right;\">\n",
       "      <th></th>\n",
       "      <th>scientific_name</th>\n",
       "      <th>park_name</th>\n",
       "      <th>observations</th>\n",
       "    </tr>\n",
       "  </thead>\n",
       "  <tbody>\n",
       "    <tr>\n",
       "      <th>0</th>\n",
       "      <td>Vicia benghalensis</td>\n",
       "      <td>Great Smoky Mountains National Park</td>\n",
       "      <td>68</td>\n",
       "    </tr>\n",
       "    <tr>\n",
       "      <th>1</th>\n",
       "      <td>Neovison vison</td>\n",
       "      <td>Great Smoky Mountains National Park</td>\n",
       "      <td>77</td>\n",
       "    </tr>\n",
       "    <tr>\n",
       "      <th>2</th>\n",
       "      <td>Prunus subcordata</td>\n",
       "      <td>Yosemite National Park</td>\n",
       "      <td>138</td>\n",
       "    </tr>\n",
       "    <tr>\n",
       "      <th>3</th>\n",
       "      <td>Abutilon theophrasti</td>\n",
       "      <td>Bryce National Park</td>\n",
       "      <td>84</td>\n",
       "    </tr>\n",
       "    <tr>\n",
       "      <th>4</th>\n",
       "      <td>Githopsis specularioides</td>\n",
       "      <td>Great Smoky Mountains National Park</td>\n",
       "      <td>85</td>\n",
       "    </tr>\n",
       "  </tbody>\n",
       "</table>\n",
       "</div>"
      ],
      "text/plain": [
       "            scientific_name                            park_name  observations\n",
       "0        Vicia benghalensis  Great Smoky Mountains National Park            68\n",
       "1            Neovison vison  Great Smoky Mountains National Park            77\n",
       "2         Prunus subcordata               Yosemite National Park           138\n",
       "3      Abutilon theophrasti                  Bryce National Park            84\n",
       "4  Githopsis specularioides  Great Smoky Mountains National Park            85"
      ]
     },
     "metadata": {},
     "output_type": "display_data"
    },
    {
     "data": {
      "text/html": [
       "<div>\n",
       "<style scoped>\n",
       "    .dataframe tbody tr th:only-of-type {\n",
       "        vertical-align: middle;\n",
       "    }\n",
       "\n",
       "    .dataframe tbody tr th {\n",
       "        vertical-align: top;\n",
       "    }\n",
       "\n",
       "    .dataframe thead th {\n",
       "        text-align: right;\n",
       "    }\n",
       "</style>\n",
       "<table border=\"1\" class=\"dataframe\">\n",
       "  <thead>\n",
       "    <tr style=\"text-align: right;\">\n",
       "      <th></th>\n",
       "      <th>category</th>\n",
       "      <th>scientific_name</th>\n",
       "      <th>common_names</th>\n",
       "      <th>conservation_status</th>\n",
       "    </tr>\n",
       "  </thead>\n",
       "  <tbody>\n",
       "    <tr>\n",
       "      <th>0</th>\n",
       "      <td>Mammal</td>\n",
       "      <td>Clethrionomys gapperi gapperi</td>\n",
       "      <td>Gapper's Red-Backed Vole</td>\n",
       "      <td>NaN</td>\n",
       "    </tr>\n",
       "    <tr>\n",
       "      <th>1</th>\n",
       "      <td>Mammal</td>\n",
       "      <td>Bos bison</td>\n",
       "      <td>American Bison, Bison</td>\n",
       "      <td>NaN</td>\n",
       "    </tr>\n",
       "    <tr>\n",
       "      <th>2</th>\n",
       "      <td>Mammal</td>\n",
       "      <td>Bos taurus</td>\n",
       "      <td>Aurochs, Aurochs, Domestic Cattle (Feral), Dom...</td>\n",
       "      <td>NaN</td>\n",
       "    </tr>\n",
       "    <tr>\n",
       "      <th>3</th>\n",
       "      <td>Mammal</td>\n",
       "      <td>Ovis aries</td>\n",
       "      <td>Domestic Sheep, Mouflon, Red Sheep, Sheep (Feral)</td>\n",
       "      <td>NaN</td>\n",
       "    </tr>\n",
       "    <tr>\n",
       "      <th>4</th>\n",
       "      <td>Mammal</td>\n",
       "      <td>Cervus elaphus</td>\n",
       "      <td>Wapiti Or Elk</td>\n",
       "      <td>NaN</td>\n",
       "    </tr>\n",
       "  </tbody>\n",
       "</table>\n",
       "</div>"
      ],
      "text/plain": [
       "  category                scientific_name  \\\n",
       "0   Mammal  Clethrionomys gapperi gapperi   \n",
       "1   Mammal                      Bos bison   \n",
       "2   Mammal                     Bos taurus   \n",
       "3   Mammal                     Ovis aries   \n",
       "4   Mammal                 Cervus elaphus   \n",
       "\n",
       "                                        common_names conservation_status  \n",
       "0                           Gapper's Red-Backed Vole                 NaN  \n",
       "1                              American Bison, Bison                 NaN  \n",
       "2  Aurochs, Aurochs, Domestic Cattle (Feral), Dom...                 NaN  \n",
       "3  Domestic Sheep, Mouflon, Red Sheep, Sheep (Feral)                 NaN  \n",
       "4                                      Wapiti Or Elk                 NaN  "
      ]
     },
     "metadata": {},
     "output_type": "display_data"
    }
   ],
   "source": [
    "#first 5 rows of each df\n",
    "display(observations_df.head())\n",
    "display(species_df.head())\n",
    "\n"
   ]
  },
  {
   "cell_type": "code",
   "execution_count": 5,
   "metadata": {},
   "outputs": [
    {
     "name": "stdout",
     "output_type": "stream",
     "text": [
      "Index(['scientific_name', 'park_name', 'observations'], dtype='object')\n",
      "Index(['category', 'scientific_name', 'common_names', 'conservation_status'], dtype='object')\n"
     ]
    }
   ],
   "source": [
    "#print column headings\n",
    "print(observations_df.columns)\n",
    "print(species_df.columns)\n",
    "\n"
   ]
  },
  {
   "cell_type": "code",
   "execution_count": 6,
   "metadata": {},
   "outputs": [
    {
     "name": "stdout",
     "output_type": "stream",
     "text": [
      "scientific_name    object\n",
      "park_name          object\n",
      "observations        int64\n",
      "dtype: object\n",
      "category               object\n",
      "scientific_name        object\n",
      "common_names           object\n",
      "conservation_status    object\n",
      "dtype: object\n"
     ]
    }
   ],
   "source": [
    "#print df datatypes\n",
    "print(observations_df.dtypes)\n",
    "print(species_df.dtypes)\n"
   ]
  },
  {
   "cell_type": "code",
   "execution_count": 7,
   "metadata": {},
   "outputs": [
    {
     "data": {
      "text/plain": [
       "category               5824\n",
       "scientific_name        5824\n",
       "common_names           5824\n",
       "conservation_status     191\n",
       "dtype: int64"
      ]
     },
     "execution_count": 7,
     "metadata": {},
     "output_type": "execute_result"
    }
   ],
   "source": [
    "#row counts for df\n",
    "observations_df.count()\n",
    "species_df.count()\n",
    "\n",
    "#conservation status might have less values because the majority of the animals arent in need of conservation"
   ]
  },
  {
   "cell_type": "code",
   "execution_count": 8,
   "metadata": {},
   "outputs": [
    {
     "name": "stdout",
     "output_type": "stream",
     "text": [
      "[nan 'Species of Concern' 'Endangered' 'Threatened' 'In Recovery']\n"
     ]
    }
   ],
   "source": [
    "#view the unique values in conservation_status\n",
    "print(species_df.conservation_status.unique())"
   ]
  },
  {
   "cell_type": "code",
   "execution_count": 12,
   "metadata": {},
   "outputs": [
    {
     "name": "stdout",
     "output_type": "stream",
     "text": [
      "There are 5541 species observed in the data.\n"
     ]
    }
   ],
   "source": [
    "#number of unique species\n",
    "print(\"There are \" + str(species_df.scientific_name.nunique()) + \" species observed in the data.\")"
   ]
  },
  {
   "cell_type": "markdown",
   "metadata": {},
   "source": [
    "## Cleanup"
   ]
  },
  {
   "cell_type": "code",
   "execution_count": 17,
   "metadata": {},
   "outputs": [
    {
     "name": "stdout",
     "output_type": "stream",
     "text": [
      "False    23281\n",
      "True        15\n",
      "Name: count, dtype: int64\n",
      "False    5824\n",
      "Name: count, dtype: int64\n"
     ]
    }
   ],
   "source": [
    "#check for duplicates\n",
    "duplicates = observations_df.duplicated()\n",
    "print(duplicates.value_counts())\n",
    "\n",
    "duplicates_species = species_df.duplicated()\n",
    "print(duplicates_species.value_counts())\n",
    "\n",
    "#drop duplicates\n",
    "observations_df = observations_df.drop_duplicates()\n"
   ]
  },
  {
   "cell_type": "code",
   "execution_count": 27,
   "metadata": {},
   "outputs": [],
   "source": [
    "#change NA value\n",
    "species_df.fillna('No Intervention', inplace=True)"
   ]
  },
  {
   "cell_type": "markdown",
   "metadata": {},
   "source": [
    "## Exploratory Data Analysis"
   ]
  },
  {
   "cell_type": "markdown",
   "metadata": {},
   "source": [
    "### What is the distribution of conservation_status for animals?"
   ]
  },
  {
   "cell_type": "code",
   "execution_count": 28,
   "metadata": {},
   "outputs": [
    {
     "data": {
      "image/png": "[encoded data removed]",
      "text/plain": [
       "<Figure size 640x480 with 1 Axes>"
      ]
     },
     "metadata": {},
     "output_type": "display_data"
    },
    {
     "data": {
      "text/plain": [
       "<Figure size 640x480 with 0 Axes>"
      ]
     },
     "metadata": {},
     "output_type": "display_data"
    }
   ],
   "source": [
    "\n",
    "\n",
    "#x axis values\n",
    "con_status = [\"Species of Concern\", \"Endangered\", \"Threatened\", \"In Recovery\"]\n",
    "#y axis values\n",
    "con_status_count = [(species_df.conservation_status.value_counts()[\"Species of Concern\"]), (species_df.conservation_status.value_counts()[\"Endangered\"]), (species_df.conservation_status.value_counts()[\"Threatened\"]), (species_df.conservation_status.value_counts()[\"In Recovery\"])]\n",
    "#plot bar graph\n",
    "color = [\"yellow\", \"red\", \"orange\", \"green\"]\n",
    "plt.bar(con_status, con_status_count, color=color)\n",
    "plt.title(\"Distribution of Conservation Status\")\n",
    "plt.xlabel(\"Conservation Status\")\n",
    "plt.ylabel(\"Count\")\n",
    "plt.savefig(r\"C:\\Users\\bhyder\\OneDrive - Relyant Global, LLC\\Pictures\\dist_of_cons_status.png\")\n",
    "plt.show()\n",
    "plt.clf()"
   ]
  },
  {
   "cell_type": "markdown",
   "metadata": {},
   "source": [
    "As shown above, \"Species of Concern\" is the largest category, followed by \"Endangered\", \"Threatened\", and \"In Recovery\"."
   ]
  },
  {
   "cell_type": "markdown",
   "metadata": {},
   "source": [
    "### Are certain types of species more likely to be endangered?"
   ]
  },
  {
   "cell_type": "code",
   "execution_count": 29,
   "metadata": {},
   "outputs": [
    {
     "data": {
      "image/png": "[encoded data removed]",
      "text/plain": [
       "<Figure size 640x480 with 1 Axes>"
      ]
     },
     "metadata": {},
     "output_type": "display_data"
    },
    {
     "data": {
      "text/plain": [
       "<Figure size 640x480 with 0 Axes>"
      ]
     },
     "metadata": {},
     "output_type": "display_data"
    }
   ],
   "source": [
    "\n",
    "#filter by endangered species\n",
    "end_cat = species_df[species_df[\"conservation_status\"] == \"Endangered\"]\n",
    "#categories of endangered animals\n",
    "categories = end_cat.category.unique()\n",
    "#total counts of animals in each category\n",
    "category_counts = species_df.category.value_counts()[categories].tolist()\n",
    "#counts of endangered animals in each category\n",
    "end_cat_counts = end_cat.category.value_counts()[categories].tolist()\n",
    "#calculating percentage of category that is endangered\n",
    "end_perc = [round(end_cat_counts[0] / category_counts[0], 4), round(end_cat_counts[1] / category_counts[1], 4), round(end_cat_counts[2] / category_counts[2], 4), round(end_cat_counts[3] / category_counts[3], 4), round(end_cat_counts[4] / category_counts[4], 4)]\n",
    "\n",
    "#plotting bar graph\n",
    "color = [\"brown\", \"red\", \"blue\", \"green\", \"yellow\"]\n",
    "plt.bar(categories, end_perc, color=color)\n",
    "plt.title(\"Percentage of Observed Animals that are Endangered\")\n",
    "plt.xlabel(\"Category\")\n",
    "plt.ylabel(\"Percentage Endangered\")\n",
    "plt.savefig(r\"C:\\Users\\bhyder\\OneDrive - Relyant Global, LLC\\Pictures\\perc_obs_end.png\")\n",
    "plt.show()\n",
    "plt.clf()"
   ]
  },
  {
   "cell_type": "markdown",
   "metadata": {},
   "source": [
    "\"Mammals\" is the category with the largest percentage of endangered species with over 3% of species carrying the designation."
   ]
  },
  {
   "cell_type": "markdown",
   "metadata": {},
   "source": [
    "#### Conservation Status of All Animal Categories"
   ]
  },
  {
   "cell_type": "code",
   "execution_count": 30,
   "metadata": {},
   "outputs": [
    {
     "data": {
      "image/png": "[encoded data removed]",
      "text/plain": [
       "<Figure size 2400x800 with 4 Axes>"
      ]
     },
     "metadata": {},
     "output_type": "display_data"
    },
    {
     "data": {
      "text/plain": [
       "<Figure size 640x480 with 0 Axes>"
      ]
     },
     "metadata": {},
     "output_type": "display_data"
    }
   ],
   "source": [
    "#filter by species of concern\n",
    "soc_cat = species_df[species_df[\"conservation_status\"] == \"Species of Concern\"]\n",
    "#categories of \"species of concern\" animals\n",
    "soc_categories = soc_cat.category.unique()\n",
    "#total counts of animals in each category\n",
    "soc_category_counts = species_df.category.value_counts()[soc_categories].tolist()\n",
    "#counts of \"species of concern\" animals in each category\n",
    "soc_cat_counts = soc_cat.category.value_counts()[soc_categories].tolist()\n",
    "#calculating percentage of category that is \"species of concern\"\n",
    "soc_perc = [round(soc_cat_counts[0] / soc_category_counts[0], 4), round(soc_cat_counts[1] / soc_category_counts[1], 4), round(soc_cat_counts[2] / soc_category_counts[2], 4), round(soc_cat_counts[3] / soc_category_counts[3], 4), round(soc_cat_counts[4] / soc_category_counts[4], 4), round(soc_cat_counts[5] / soc_category_counts[5], 4), round(soc_cat_counts[6] / soc_category_counts[6], 4)]\n",
    "\n",
    "#filter by endangered species\n",
    "end_cat = species_df[species_df[\"conservation_status\"] == \"Endangered\"]\n",
    "#categories of endangered animals\n",
    "end_categories = end_cat.category.unique()\n",
    "#total counts of animals in each category\n",
    "end_category_counts = species_df.category.value_counts()[end_categories].tolist()\n",
    "#counts of endangered animals in each category\n",
    "end_cat_counts = end_cat.category.value_counts()[end_categories].tolist()\n",
    "#calculating percentage of category that is endangered\n",
    "end_perc = [round(end_cat_counts[0] / end_category_counts[0], 4), round(end_cat_counts[1] / end_category_counts[1], 4), round(end_cat_counts[2] / end_category_counts[2], 4), round(end_cat_counts[3] / end_category_counts[3], 4), round(end_cat_counts[4] / end_category_counts[4], 4)]\n",
    "\n",
    "#filter by threatened species\n",
    "thr_cat = species_df[species_df[\"conservation_status\"] == \"Threatened\"]\n",
    "#categories of threatened animals\n",
    "thr_categories = thr_cat.category.unique()\n",
    "#total counts of animals in each category\n",
    "thr_category_counts = species_df.category.value_counts()[thr_categories].tolist()\n",
    "#counts of threatened animals in each category\n",
    "thr_cat_counts = thr_cat.category.value_counts()[thr_categories].tolist()\n",
    "#calculating percentage of category that is threatened\n",
    "thr_perc = [round(thr_cat_counts[0] / thr_category_counts[0], 4), round(thr_cat_counts[1] / thr_category_counts[1], 4), round(thr_cat_counts[2] / thr_category_counts[2], 4), round(thr_cat_counts[3] / thr_category_counts[3], 4)]\n",
    "\n",
    "#filter by in recovery species\n",
    "ir_cat = species_df[species_df[\"conservation_status\"] == \"In Recovery\"]\n",
    "#categories of \"in recovery\" animals\n",
    "ir_categories = ir_cat.category.unique()\n",
    "#total counts of animals in each category\n",
    "ir_category_counts = species_df.category.value_counts()[ir_categories].tolist()\n",
    "#counts of \"in recovery\" animals in each category\n",
    "ir_cat_counts = ir_cat.category.value_counts()[ir_categories].tolist()\n",
    "#calculating percentage of category that is \"in recovery\"\n",
    "ir_perc = [round(ir_cat_counts[0] / ir_category_counts[0], 4), round(ir_cat_counts[1] / ir_category_counts[1], 4)]\n",
    "\n",
    "#create subplots\n",
    "figure, axe = plt.subplots(2, 2, figsize=(24,8))\n",
    "#adjust margins\n",
    "plt.subplots_adjust(left=0.3, right=0.7, bottom=0.2, top=0.9, wspace=0.3, hspace=0.8)\n",
    "\n",
    "#plot subplots\n",
    "color = [\"brown\", \"red\", \"orange\", \"yellow\", \"blue\", \"green\", \"yellowgreen\"]\n",
    "axe[0, 0].bar(soc_categories, soc_perc, color=color)\n",
    "axe[0, 0].tick_params(labelrotation=45)\n",
    "axe[0, 0].set_title(\"Percentage of Observed Animals that are Species of Concern\")\n",
    "axe[0, 0].set_xlabel(\"Category\")\n",
    "axe[0, 0].set_ylabel(\"Percentage\")\n",
    "\n",
    "color2 = [\"brown\", \"red\", \"yellow\", \"blue\", \"green\"]\n",
    "axe[0, 1].bar(end_categories, end_perc, color=color2)\n",
    "axe[0, 1].tick_params(labelrotation=45)\n",
    "axe[0, 1].set_title(\"Percentage of Observed Animals that are Endangered\")\n",
    "axe[0, 1].set_xlabel(\"Category\")\n",
    "axe[0, 1].set_ylabel(\"Percentage\")\n",
    "\n",
    "color3 = [\"brown\", \"yellow\", \"blue\", \"green\"]\n",
    "axe[1, 0].bar(thr_categories, thr_perc, color=color3)\n",
    "axe[1, 0].tick_params(labelrotation=45)\n",
    "axe[1, 0].set_title(\"Percentage of Observed Animals that are Threatened\")\n",
    "axe[1, 0].set_xlabel(\"Category\")\n",
    "axe[1, 0].set_ylabel(\"Percentage\")\n",
    "\n",
    "color4 = [\"brown\", \"red\"]\n",
    "axe[1, 1].bar(ir_categories, ir_perc, color=color4)\n",
    "axe[1, 1].tick_params(labelrotation=45)\n",
    "axe[1, 1].set_title(\"Percentage of Observed Animals that are In Recovery\")\n",
    "axe[1, 1].set_xlabel(\"Category\")\n",
    "axe[1, 1].set_ylabel(\"Percentage\")\n",
    "plt.savefig(r\"C:\\Users\\bhyder\\OneDrive - Relyant Global, LLC\\Pictures\\perc_of_con_status_cat.png\")\n",
    "plt.show()\n",
    "plt.clf()"
   ]
  },
  {
   "cell_type": "markdown",
   "metadata": {},
   "source": [
    "### Are the differences between species and their conservation status significant?"
   ]
  },
  {
   "cell_type": "code",
   "execution_count": 42,
   "metadata": {},
   "outputs": [
    {
     "data": {
      "text/html": [
       "<div>\n",
       "<style scoped>\n",
       "    .dataframe tbody tr th:only-of-type {\n",
       "        vertical-align: middle;\n",
       "    }\n",
       "\n",
       "    .dataframe tbody tr th {\n",
       "        vertical-align: top;\n",
       "    }\n",
       "\n",
       "    .dataframe thead th {\n",
       "        text-align: right;\n",
       "    }\n",
       "</style>\n",
       "<table border=\"1\" class=\"dataframe\">\n",
       "  <thead>\n",
       "    <tr style=\"text-align: right;\">\n",
       "      <th></th>\n",
       "      <th>not_protected</th>\n",
       "      <th>protected</th>\n",
       "    </tr>\n",
       "    <tr>\n",
       "      <th>category</th>\n",
       "      <th></th>\n",
       "      <th></th>\n",
       "    </tr>\n",
       "  </thead>\n",
       "  <tbody>\n",
       "    <tr>\n",
       "      <th>Amphibian</th>\n",
       "      <td>72</td>\n",
       "      <td>7</td>\n",
       "    </tr>\n",
       "    <tr>\n",
       "      <th>Bird</th>\n",
       "      <td>413</td>\n",
       "      <td>75</td>\n",
       "    </tr>\n",
       "    <tr>\n",
       "      <th>Fish</th>\n",
       "      <td>115</td>\n",
       "      <td>11</td>\n",
       "    </tr>\n",
       "    <tr>\n",
       "      <th>Mammal</th>\n",
       "      <td>146</td>\n",
       "      <td>30</td>\n",
       "    </tr>\n",
       "    <tr>\n",
       "      <th>Nonvascular Plant</th>\n",
       "      <td>328</td>\n",
       "      <td>5</td>\n",
       "    </tr>\n",
       "    <tr>\n",
       "      <th>Reptile</th>\n",
       "      <td>73</td>\n",
       "      <td>5</td>\n",
       "    </tr>\n",
       "    <tr>\n",
       "      <th>Vascular Plant</th>\n",
       "      <td>4216</td>\n",
       "      <td>46</td>\n",
       "    </tr>\n",
       "  </tbody>\n",
       "</table>\n",
       "</div>"
      ],
      "text/plain": [
       "                   not_protected  protected\n",
       "category                                   \n",
       "Amphibian                     72          7\n",
       "Bird                         413         75\n",
       "Fish                         115         11\n",
       "Mammal                       146         30\n",
       "Nonvascular Plant            328          5\n",
       "Reptile                       73          5\n",
       "Vascular Plant              4216         46"
      ]
     },
     "metadata": {},
     "output_type": "display_data"
    }
   ],
   "source": [
    "#protected vs not protected table\n",
    "species_df[\"protected\"] = species_df.conservation_status != \"No Intervention\"\n",
    "\n",
    "category_counts = species_df.groupby([\"category\", \"protected\"]).scientific_name.nunique().reset_index().pivot(columns=\"protected\", index=\"category\", values=\"scientific_name\")\n",
    "category_counts.columns = [\"not_protected\", \"protected\"]\n",
    "\n",
    "display(category_counts)"
   ]
  },
  {
   "cell_type": "markdown",
   "metadata": {},
   "source": [
    "#### Chi-2 Calculations Between Animals and Non-Vascular Plants"
   ]
  },
  {
   "cell_type": "code",
   "execution_count": 52,
   "metadata": {},
   "outputs": [
    {
     "data": {
      "text/plain": [
       "Chi2ContingencyResult(statistic=9.765103711306242, pvalue=0.001778554820715609, dof=1, expected_freq=array([[  9.69902913, 323.30097087],\n",
       "       [  2.30097087,  76.69902913]]))"
      ]
     },
     "execution_count": 52,
     "metadata": {},
     "output_type": "execute_result"
    }
   ],
   "source": [
    "from scipy.stats import chi2_contingency\n",
    "nonv_plant_amphibian = [[5, 328], [7, 72]]\n",
    "chi2_contingency(nonv_plant_amphibian)"
   ]
  },
  {
   "cell_type": "markdown",
   "metadata": {},
   "source": [
    "With the level of statistical significance being 0.05, the p-value of 0.002 means that amphibians and non-vascular plants have a significant relationship."
   ]
  },
  {
   "cell_type": "code",
   "execution_count": 56,
   "metadata": {},
   "outputs": [
    {
     "data": {
      "text/plain": [
       "Chi2ContingencyResult(statistic=41.71745786999272, pvalue=1.0546306904974968e-10, dof=1, expected_freq=array([[ 32.44823386, 300.55176614],\n",
       "       [ 47.55176614, 440.44823386]]))"
      ]
     },
     "execution_count": 56,
     "metadata": {},
     "output_type": "execute_result"
    }
   ],
   "source": [
    "nonv_plant_bird = [[5, 328], [75, 413]]\n",
    "chi2_contingency(nonv_plant_bird)"
   ]
  },
  {
   "cell_type": "markdown",
   "metadata": {},
   "source": [
    "With the level of statistical significance being 0.05, the p-value of 1.05 means that non-vascular plants and birds do not have a significant relationship."
   ]
  },
  {
   "cell_type": "code",
   "execution_count": 57,
   "metadata": {},
   "outputs": [
    {
     "data": {
      "text/plain": [
       "Chi2ContingencyResult(statistic=12.13040550073211, pvalue=0.0004960633228752838, dof=1, expected_freq=array([[ 11.60784314, 321.39215686],\n",
       "       [  4.39215686, 121.60784314]]))"
      ]
     },
     "execution_count": 57,
     "metadata": {},
     "output_type": "execute_result"
    }
   ],
   "source": [
    "nonv_plant_fish = [[5, 328], [11, 115]]\n",
    "chi2_contingency(nonv_plant_fish)"
   ]
  },
  {
   "cell_type": "markdown",
   "metadata": {},
   "source": [
    "With the level of statistical significance being 0.05, the p-value of 0.0005 means that non-vascular plants and fish do have a significant relationship."
   ]
  },
  {
   "cell_type": "code",
   "execution_count": 59,
   "metadata": {},
   "outputs": [
    {
     "data": {
      "text/plain": [
       "Chi2ContingencyResult(statistic=41.0526001992972, pvalue=1.481868915759314e-10, dof=1, expected_freq=array([[ 22.8978389, 310.1021611],\n",
       "       [ 12.1021611, 163.8978389]]))"
      ]
     },
     "execution_count": 59,
     "metadata": {},
     "output_type": "execute_result"
    }
   ],
   "source": [
    "nonv_plant_mammal = [[5, 328], [30, 146]]\n",
    "chi2_contingency(nonv_plant_mammal)"
   ]
  },
  {
   "cell_type": "markdown",
   "metadata": {},
   "source": [
    "With the level of statistical significance being 0.05, the p-value of 1.48 means that non-vascular plants and mammals do not have a significant relationship."
   ]
  },
  {
   "cell_type": "code",
   "execution_count": 60,
   "metadata": {},
   "outputs": [
    {
     "data": {
      "text/plain": [
       "Chi2ContingencyResult(statistic=4.513570089848144, pvalue=0.03362698310726171, dof=1, expected_freq=array([[  8.10218978, 324.89781022],\n",
       "       [  1.89781022,  76.10218978]]))"
      ]
     },
     "execution_count": 60,
     "metadata": {},
     "output_type": "execute_result"
    }
   ],
   "source": [
    "nonv_plant_reptile = [[5, 328], [5, 73]]\n",
    "chi2_contingency(nonv_plant_reptile)"
   ]
  },
  {
   "cell_type": "markdown",
   "metadata": {},
   "source": [
    "With the level of statistical significance being 0.05, the p-value of 0.03 means that non-vascular plants and reptiles do have a significant relationship."
   ]
  },
  {
   "cell_type": "markdown",
   "metadata": {},
   "source": [
    "#### Conclusion"
   ]
  },
  {
   "cell_type": "markdown",
   "metadata": {},
   "source": [
    "Reptiles, amphibians, and fish all have statistically significant relationships with non-vascular plants. This could mean that these animals rely on non-vascular plants as a food source or shelter, and/or non-vascular plants rely on these animals for their propagation."
   ]
  },
  {
   "cell_type": "markdown",
   "metadata": {},
   "source": [
    "#### Chi-2 Calculations Between Animals and Vascular Plants"
   ]
  },
  {
   "cell_type": "code",
   "execution_count": 61,
   "metadata": {},
   "outputs": [
    {
     "data": {
      "text/plain": [
       "Chi2ContingencyResult(statistic=14.435371140033908, pvalue=0.00014505215494675828, dof=1, expected_freq=array([[5.00834101e+01, 4.21191659e+03],\n",
       "       [9.16589862e-01, 7.70834101e+01]]))"
      ]
     },
     "execution_count": 61,
     "metadata": {},
     "output_type": "execute_result"
    }
   ],
   "source": [
    "vasc_plant_reptile = [[46, 4216], [5, 73]]\n",
    "chi2_contingency(vasc_plant_reptile)"
   ]
  },
  {
   "cell_type": "markdown",
   "metadata": {},
   "source": [
    "With the level of statistical significance being 0.05, the p-value of 0.0001 means that vascular plants and reptiles do have a significant relationship."
   ]
  },
  {
   "cell_type": "code",
   "execution_count": 62,
   "metadata": {},
   "outputs": [
    {
     "data": {
      "text/plain": [
       "Chi2ContingencyResult(statistic=246.5870424874456, pvalue=1.4405067309854046e-55, dof=1, expected_freq=array([[7.29860297e+01, 4.18901397e+03],\n",
       "       [3.01397026e+00, 1.72986030e+02]]))"
      ]
     },
     "execution_count": 62,
     "metadata": {},
     "output_type": "execute_result"
    }
   ],
   "source": [
    "vasc_plant_mammal = [[46, 4216], [30, 146]]\n",
    "chi2_contingency(vasc_plant_mammal)"
   ]
  },
  {
   "cell_type": "markdown",
   "metadata": {},
   "source": [
    "With the level of statistical significance being 0.05, the p-value of 1.44 means that vascular plants and mammals do not have a significant relationship."
   ]
  },
  {
   "cell_type": "code",
   "execution_count": 63,
   "metadata": {},
   "outputs": [
    {
     "data": {
      "text/plain": [
       "Chi2ContingencyResult(statistic=50.06568276285048, pvalue=1.4868469491889182e-12, dof=1, expected_freq=array([[5.53632634e+01, 4.20663674e+03],\n",
       "       [1.63673655e+00, 1.24363263e+02]]))"
      ]
     },
     "execution_count": 63,
     "metadata": {},
     "output_type": "execute_result"
    }
   ],
   "source": [
    "vasc_plant_fish = [[46, 4216], [11, 115]]\n",
    "chi2_contingency(vasc_plant_fish)"
   ]
  },
  {
   "cell_type": "markdown",
   "metadata": {},
   "source": [
    "With the level of statistical significance being 0.05, the p-value of 1.48 means that vascular plants and fish do not have a significant relationship."
   ]
  },
  {
   "cell_type": "code",
   "execution_count": 65,
   "metadata": {},
   "outputs": [
    {
     "data": {
      "text/plain": [
       "Chi2ContingencyResult(statistic=354.42332680820607, pvalue=4.612268031690142e-79, dof=1, expected_freq=array([[ 108.56884211, 4153.43115789],\n",
       "       [  12.43115789,  475.56884211]]))"
      ]
     },
     "execution_count": 65,
     "metadata": {},
     "output_type": "execute_result"
    }
   ],
   "source": [
    "vasc_plant_bird = [[46, 4216], [75, 413]]\n",
    "chi2_contingency(vasc_plant_bird)"
   ]
  },
  {
   "cell_type": "markdown",
   "metadata": {},
   "source": [
    "With the level of statistical significance being 0.05, the p-value of 4.61 means that vascular plants and birds do not have a significant relationship."
   ]
  },
  {
   "cell_type": "code",
   "execution_count": 66,
   "metadata": {},
   "outputs": [
    {
     "data": {
      "text/plain": [
       "Chi2ContingencyResult(statistic=32.75729797707421, pvalue=1.044135514665698e-08, dof=1, expected_freq=array([[5.20354757e+01, 4.20996452e+03],\n",
       "       [9.64524303e-01, 7.80354757e+01]]))"
      ]
     },
     "execution_count": 66,
     "metadata": {},
     "output_type": "execute_result"
    }
   ],
   "source": [
    "vasc_plant_amph = [[46, 4216], [7, 72]]\n",
    "chi2_contingency(vasc_plant_amph)"
   ]
  },
  {
   "cell_type": "markdown",
   "metadata": {},
   "source": [
    "With the level of statistical significance being 0.05, the p-value of 1.04 means that vascular plants and amphibians do not have a significant relationship."
   ]
  },
  {
   "cell_type": "markdown",
   "metadata": {},
   "source": [
    "#### Conclusion"
   ]
  },
  {
   "cell_type": "markdown",
   "metadata": {},
   "source": [
    "The only category that has a statistically significant relationship with vascular plants are reptiles. This shows that reptiles are the only animal that has a relationship with both vascular and non-vascular plants."
   ]
  },
  {
   "cell_type": "markdown",
   "metadata": {},
   "source": [
    "### Which species were spotted the most at each park?"
   ]
  },
  {
   "cell_type": "code",
   "execution_count": 31,
   "metadata": {},
   "outputs": [
    {
     "data": {
      "text/html": [
       "<div>\n",
       "<style scoped>\n",
       "    .dataframe tbody tr th:only-of-type {\n",
       "        vertical-align: middle;\n",
       "    }\n",
       "\n",
       "    .dataframe tbody tr th {\n",
       "        vertical-align: top;\n",
       "    }\n",
       "\n",
       "    .dataframe thead th {\n",
       "        text-align: right;\n",
       "    }\n",
       "</style>\n",
       "<table border=\"1\" class=\"dataframe\">\n",
       "  <thead>\n",
       "    <tr style=\"text-align: right;\">\n",
       "      <th></th>\n",
       "      <th>category</th>\n",
       "      <th>scientific_name</th>\n",
       "      <th>common_names</th>\n",
       "      <th>conservation_status</th>\n",
       "      <th>park_name</th>\n",
       "      <th>observations</th>\n",
       "    </tr>\n",
       "  </thead>\n",
       "  <tbody>\n",
       "    <tr>\n",
       "      <th>23</th>\n",
       "      <td>Mammal</td>\n",
       "      <td>Cervus elaphus</td>\n",
       "      <td>Wapiti Or Elk</td>\n",
       "      <td>No Intervention</td>\n",
       "      <td>Yosemite National Park</td>\n",
       "      <td>176</td>\n",
       "    </tr>\n",
       "    <tr>\n",
       "      <th>31</th>\n",
       "      <td>Mammal</td>\n",
       "      <td>Cervus elaphus</td>\n",
       "      <td>Rocky Mountain Elk</td>\n",
       "      <td>No Intervention</td>\n",
       "      <td>Yosemite National Park</td>\n",
       "      <td>176</td>\n",
       "    </tr>\n",
       "    <tr>\n",
       "      <th>1652</th>\n",
       "      <td>Bird</td>\n",
       "      <td>Vermivora chrysoptera X pinus</td>\n",
       "      <td>Brewster's Warbler</td>\n",
       "      <td>No Intervention</td>\n",
       "      <td>Yosemite National Park</td>\n",
       "      <td>176</td>\n",
       "    </tr>\n",
       "    <tr>\n",
       "      <th>2613</th>\n",
       "      <td>Fish</td>\n",
       "      <td>Luxilus coccogenis</td>\n",
       "      <td>Warpaint Shiner</td>\n",
       "      <td>No Intervention</td>\n",
       "      <td>Yosemite National Park</td>\n",
       "      <td>176</td>\n",
       "    </tr>\n",
       "    <tr>\n",
       "      <th>2914</th>\n",
       "      <td>Fish</td>\n",
       "      <td>Cottus carolinae</td>\n",
       "      <td>Banded Sculpin</td>\n",
       "      <td>No Intervention</td>\n",
       "      <td>Yosemite National Park</td>\n",
       "      <td>176</td>\n",
       "    </tr>\n",
       "    <tr>\n",
       "      <th>...</th>\n",
       "      <td>...</td>\n",
       "      <td>...</td>\n",
       "      <td>...</td>\n",
       "      <td>...</td>\n",
       "      <td>...</td>\n",
       "      <td>...</td>\n",
       "    </tr>\n",
       "    <tr>\n",
       "      <th>22684</th>\n",
       "      <td>Vascular Plant</td>\n",
       "      <td>Philadelphus lewisii</td>\n",
       "      <td>Lewis' Mock Orange</td>\n",
       "      <td>No Intervention</td>\n",
       "      <td>Yellowstone National Park</td>\n",
       "      <td>223</td>\n",
       "    </tr>\n",
       "    <tr>\n",
       "      <th>24467</th>\n",
       "      <td>Vascular Plant</td>\n",
       "      <td>Juncus capillaris</td>\n",
       "      <td>Hairystem Dwarf Rush</td>\n",
       "      <td>No Intervention</td>\n",
       "      <td>Yellowstone National Park</td>\n",
       "      <td>223</td>\n",
       "    </tr>\n",
       "    <tr>\n",
       "      <th>24621</th>\n",
       "      <td>Vascular Plant</td>\n",
       "      <td>Bromus grandis</td>\n",
       "      <td>Tall Brome</td>\n",
       "      <td>No Intervention</td>\n",
       "      <td>Yellowstone National Park</td>\n",
       "      <td>223</td>\n",
       "    </tr>\n",
       "    <tr>\n",
       "      <th>24633</th>\n",
       "      <td>Vascular Plant</td>\n",
       "      <td>Bromus laevipes</td>\n",
       "      <td>Chinook Brome, Woodland Brome</td>\n",
       "      <td>No Intervention</td>\n",
       "      <td>Yellowstone National Park</td>\n",
       "      <td>223</td>\n",
       "    </tr>\n",
       "    <tr>\n",
       "      <th>25222</th>\n",
       "      <td>Vascular Plant</td>\n",
       "      <td>Ivesia shockleyi var. shockleyi</td>\n",
       "      <td>Shockley's Ivesia, Sky Mousetail</td>\n",
       "      <td>No Intervention</td>\n",
       "      <td>Yosemite National Park</td>\n",
       "      <td>223</td>\n",
       "    </tr>\n",
       "  </tbody>\n",
       "</table>\n",
       "<p>221 rows × 6 columns</p>\n",
       "</div>"
      ],
      "text/plain": [
       "             category                  scientific_name  \\\n",
       "23             Mammal                   Cervus elaphus   \n",
       "31             Mammal                   Cervus elaphus   \n",
       "1652             Bird    Vermivora chrysoptera X pinus   \n",
       "2613             Fish               Luxilus coccogenis   \n",
       "2914             Fish                 Cottus carolinae   \n",
       "...               ...                              ...   \n",
       "22684  Vascular Plant             Philadelphus lewisii   \n",
       "24467  Vascular Plant                Juncus capillaris   \n",
       "24621  Vascular Plant                   Bromus grandis   \n",
       "24633  Vascular Plant                  Bromus laevipes   \n",
       "25222  Vascular Plant  Ivesia shockleyi var. shockleyi   \n",
       "\n",
       "                           common_names conservation_status  \\\n",
       "23                        Wapiti Or Elk     No Intervention   \n",
       "31                   Rocky Mountain Elk     No Intervention   \n",
       "1652                 Brewster's Warbler     No Intervention   \n",
       "2613                    Warpaint Shiner     No Intervention   \n",
       "2914                     Banded Sculpin     No Intervention   \n",
       "...                                 ...                 ...   \n",
       "22684                Lewis' Mock Orange     No Intervention   \n",
       "24467              Hairystem Dwarf Rush     No Intervention   \n",
       "24621                        Tall Brome     No Intervention   \n",
       "24633     Chinook Brome, Woodland Brome     No Intervention   \n",
       "25222  Shockley's Ivesia, Sky Mousetail     No Intervention   \n",
       "\n",
       "                       park_name  observations  \n",
       "23        Yosemite National Park           176  \n",
       "31        Yosemite National Park           176  \n",
       "1652      Yosemite National Park           176  \n",
       "2613      Yosemite National Park           176  \n",
       "2914      Yosemite National Park           176  \n",
       "...                          ...           ...  \n",
       "22684  Yellowstone National Park           223  \n",
       "24467  Yellowstone National Park           223  \n",
       "24621  Yellowstone National Park           223  \n",
       "24633  Yellowstone National Park           223  \n",
       "25222     Yosemite National Park           223  \n",
       "\n",
       "[221 rows x 6 columns]"
      ]
     },
     "metadata": {},
     "output_type": "display_data"
    }
   ],
   "source": [
    "\n",
    "#merge dataframes\n",
    "biodiversity = pd.merge(species_df, observations_df)\n",
    "\n",
    "#find unique park names\n",
    "parks = biodiversity.park_name.unique()\n",
    "\n",
    "#organize by park name\n",
    "park0_obs = biodiversity[biodiversity[\"park_name\"] == parks[0]]\n",
    "park1_obs = biodiversity[biodiversity[\"park_name\"] == parks[1]]\n",
    "park2_obs = biodiversity[biodiversity[\"park_name\"] == parks[2]]\n",
    "park3_obs = biodiversity[biodiversity[\"park_name\"] == parks[3]]\n",
    "\n",
    "#filter by max observations\n",
    "parks_max_obs = [park0_obs.observations.max(), park1_obs.observations.max(), park2_obs.observations.max(), park3_obs.observations.max()]\n",
    "\n",
    "\n",
    "#find species name that matches max observations\n",
    "park0_name = biodiversity[biodiversity[\"observations\"] == parks_max_obs[0]]\n",
    "park1_name = biodiversity[biodiversity[\"observations\"] == parks_max_obs[1]]\n",
    "park2_name = biodiversity[biodiversity[\"observations\"] == parks_max_obs[2]]\n",
    "park3_name = biodiversity[biodiversity[\"observations\"] == parks_max_obs[3]]\n",
    "\n",
    "#list of species with max observations for each park\n",
    "parks_max_name = [park0_name.common_names, park1_name.common_names, park2_name.common_names, park3_name.common_names]\n",
    "\n",
    "#concatenated dataframe of max observations in each park\n",
    "max_obs = pd.concat([park0_name, park1_name, park2_name, park3_name])\n",
    "\n",
    "display(max_obs)\n",
    "\n"
   ]
  },
  {
   "cell_type": "markdown",
   "metadata": {},
   "source": [
    "Each park had multiple max observations so making a figure to visualize this was virtually impossible. This is why the results are displayed in a dataframe."
   ]
  }
 ],
 "metadata": {
  "kernelspec": {
   "display_name": "Python 3 (ipykernel)",
   "language": "python",
   "name": "python3"
  },
  "language_info": {
   "codemirror_mode": {
    "name": "ipython",
    "version": 3
   },
   "file_extension": ".py",
   "mimetype": "text/x-python",
   "name": "python",
   "nbconvert_exporter": "python",
   "pygments_lexer": "ipython3",
   "version": "3.11.4"
  }
 },
 "nbformat": 4,
 "nbformat_minor": 4
}
